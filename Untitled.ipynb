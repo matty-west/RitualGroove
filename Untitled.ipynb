{
 "cells": [
  {
   "cell_type": "code",
   "execution_count": 4,
   "id": "4f9f1e18-a481-45a9-aefc-9a998aebd551",
   "metadata": {},
   "outputs": [],
   "source": [
    "import pandas as pd  # For data manipulation\n",
    "import altair as alt  # For creating visualizations\n",
    "from sklearn.cluster import KMeans  # For K-Means clustering\n",
    "from sklearn.preprocessing import StandardScaler  # For scaling data\n",
    "\n",
    "df = pd.read_pickle('Data/4TC_playlist.pkl')\n",
    "\n",
    "df_numeric = df[['popularity', 'danceability', 'energy', 'loudness', 'speechiness', 'acousticness', 'instrumentalness', 'liveness', 'valence']].copy()\n",
    "\n",
    "# Scale the numeric features\n",
    "scaler = StandardScaler()\n",
    "df_scaled = pd.DataFrame(scaler.fit_transform(df_numeric), columns=df_numeric.columns)\n",
    "\n",
    "# Fit KMeans with 4 clusters\n",
    "kmeans = KMeans(n_clusters=4, random_state=42)\n",
    "df_clustered = df.copy()\n",
    "df_clustered['cluster'] = kmeans.fit_predict(df_scaled)\n",
    "\n",
    "# Create the scatter plot\n",
    "chart = alt.Chart(df_clustered).mark_circle().encode(\n",
    "    x='danceability',\n",
    "    y='energy',\n",
    "    color='cluster:N',\n",
    "    size='acousticness',\n",
    "    tooltip=['danceability', 'energy', 'acousticness', 'cluster', 'track_name', 'artist', 'album']\n",
    ").properties(\n",
    "    title='Cluster Scatter Plot'\n",
    ").interactive()"
   ]
  },
  {
   "cell_type": "code",
   "execution_count": null,
   "id": "32abe7b4-3917-4446-9a90-14f8d94bbfb7",
   "metadata": {},
   "outputs": [],
   "source": []
  }
 ],
 "metadata": {
  "kernelspec": {
   "display_name": "Python 3 (ipykernel)",
   "language": "python",
   "name": "python3"
  },
  "language_info": {
   "codemirror_mode": {
    "name": "ipython",
    "version": 3
   },
   "file_extension": ".py",
   "mimetype": "text/x-python",
   "name": "python",
   "nbconvert_exporter": "python",
   "pygments_lexer": "ipython3",
   "version": "3.9.13"
  }
 },
 "nbformat": 4,
 "nbformat_minor": 5
}
